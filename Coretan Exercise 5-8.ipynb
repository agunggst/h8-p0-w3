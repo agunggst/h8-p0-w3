{
 "cells": [
  {
   "cell_type": "code",
   "execution_count": 1,
   "metadata": {},
   "outputs": [],
   "source": [
    "// // TEST CASES PALINDROME\n",
    "// console.log(palindrome('katak')); // true\n",
    "// console.log(palindrome('blanket')); // false\n",
    "// console.log(palindrome('civic')); // true\n",
    "// console.log(palindrome('kasur rusak')); // true\n",
    "// console.log(palindrome('mister')); // false"
   ]
  },
  {
   "cell_type": "code",
   "execution_count": 52,
   "metadata": {},
   "outputs": [],
   "source": [
    "function palindrome(kata) {\n",
    "  var state = true\n",
    "    for(let i=0; i<parseInt(kata.length/2); i++){\n",
    "        if(kata[i]===kata[kata.length-(1+i)]){\n",
    "            state = true\n",
    "        }\n",
    "        else{\n",
    "            state = false\n",
    "        }\n",
    "    }\n",
    "    return state\n",
    "}"
   ]
  },
  {
   "cell_type": "code",
   "execution_count": 47,
   "metadata": {},
   "outputs": [],
   "source": [
    "var kata = \"tidak\""
   ]
  },
  {
   "cell_type": "code",
   "execution_count": 48,
   "metadata": {},
   "outputs": [],
   "source": [
    "kata[6]"
   ]
  },
  {
   "cell_type": "code",
   "execution_count": 49,
   "metadata": {},
   "outputs": [],
   "source": [
    "kata[kata.length-1-6]"
   ]
  },
  {
   "cell_type": "code",
   "execution_count": 50,
   "metadata": {},
   "outputs": [
    {
     "data": {
      "text/plain": [
       "2.5"
      ]
     },
     "execution_count": 50,
     "metadata": {},
     "output_type": "execute_result"
    }
   ],
   "source": [
    "kata.length/2"
   ]
  },
  {
   "cell_type": "code",
   "execution_count": 51,
   "metadata": {},
   "outputs": [
    {
     "data": {
      "text/plain": [
       "false"
      ]
     },
     "execution_count": 51,
     "metadata": {},
     "output_type": "execute_result"
    }
   ],
   "source": [
    "var state = true\n",
    "for(let i=0; i<parseInt(kata.length/2); i++){\n",
    "    if(kata[i]===kata[kata.length-(1+i)]){\n",
    "        state = true\n",
    "    }\n",
    "    else{\n",
    "        state = false\n",
    "    }\n",
    "}"
   ]
  },
  {
   "cell_type": "code",
   "execution_count": 53,
   "metadata": {},
   "outputs": [
    {
     "name": "stdout",
     "output_type": "stream",
     "text": [
      "true\n",
      "false\n",
      "true\n",
      "true\n",
      "false\n"
     ]
    }
   ],
   "source": [
    "console.log(palindrome('katak')); // true\n",
    "console.log(palindrome('blanket')); // false\n",
    "console.log(palindrome('civic')); // true\n",
    "console.log(palindrome('kasur rusak')); // true\n",
    "console.log(palindrome('mister')); // false"
   ]
  },
  {
   "cell_type": "markdown",
   "metadata": {},
   "source": [
    "_______________"
   ]
  },
  {
   "cell_type": "code",
   "execution_count": 54,
   "metadata": {},
   "outputs": [],
   "source": [
    "// // TEST CASES PALINDROME\n",
    "// console.log(angkaPalindrome(8)); // 9\n",
    "// console.log(angkaPalindrome(10)); // 11\n",
    "// console.log(angkaPalindrome(117)); // 121\n",
    "// console.log(angkaPalindrome(175)); // 181\n",
    "// console.log(angkaPalindrome(1000)); // 1001"
   ]
  },
  {
   "cell_type": "code",
   "execution_count": 67,
   "metadata": {},
   "outputs": [],
   "source": [
    "function angkaPalindrome(num) {\n",
    "    num++\n",
    "    if(String(num).length==1){\n",
    "        return num\n",
    "    }\n",
    "    var state = false\n",
    "    while(state==false){\n",
    "        for(let i=0; i<parseInt(String(num).length/2); i++){\n",
    "            if(String(num)[i]==String(num)[String(num).length-(1+i)]){\n",
    "                state = true\n",
    "            }\n",
    "            else{\n",
    "                num++\n",
    "                state = false\n",
    "                break;\n",
    "            }\n",
    "        }\n",
    "    }\n",
    "    return num\n",
    "}"
   ]
  },
  {
   "cell_type": "code",
   "execution_count": 55,
   "metadata": {},
   "outputs": [],
   "source": [
    "var num = 175"
   ]
  },
  {
   "cell_type": "code",
   "execution_count": 60,
   "metadata": {},
   "outputs": [
    {
     "data": {
      "text/plain": [
       "'1'"
      ]
     },
     "execution_count": 60,
     "metadata": {},
     "output_type": "execute_result"
    }
   ],
   "source": [
    "String(num)[0]"
   ]
  },
  {
   "cell_type": "code",
   "execution_count": 61,
   "metadata": {},
   "outputs": [
    {
     "data": {
      "text/plain": [
       "'5'"
      ]
     },
     "execution_count": 61,
     "metadata": {},
     "output_type": "execute_result"
    }
   ],
   "source": [
    "String(num)[String(num).length-1-0]"
   ]
  },
  {
   "cell_type": "code",
   "execution_count": 62,
   "metadata": {},
   "outputs": [
    {
     "data": {
      "text/plain": [
       "175"
      ]
     },
     "execution_count": 62,
     "metadata": {},
     "output_type": "execute_result"
    }
   ],
   "source": [
    "num++"
   ]
  },
  {
   "cell_type": "code",
   "execution_count": 64,
   "metadata": {},
   "outputs": [
    {
     "data": {
      "text/plain": [
       "1"
      ]
     },
     "execution_count": 64,
     "metadata": {},
     "output_type": "execute_result"
    }
   ],
   "source": [
    "parseInt(String(num).length/2)"
   ]
  },
  {
   "cell_type": "code",
   "execution_count": 65,
   "metadata": {},
   "outputs": [
    {
     "data": {
      "text/plain": [
       "true"
      ]
     },
     "execution_count": 65,
     "metadata": {},
     "output_type": "execute_result"
    }
   ],
   "source": [
    "var state = false\n",
    "while(state==false){\n",
    "    for(let i=0; i<parseInt(String(num).length/2); i++){\n",
    "        if(String(num)[i]==String(num)[String(num).length-(1+i)]){\n",
    "            state = true\n",
    "        }\n",
    "        else{\n",
    "            num++\n",
    "            state = false\n",
    "            break;\n",
    "        }\n",
    "    }\n",
    "}"
   ]
  },
  {
   "cell_type": "code",
   "execution_count": 66,
   "metadata": {},
   "outputs": [
    {
     "data": {
      "text/plain": [
       "181"
      ]
     },
     "execution_count": 66,
     "metadata": {},
     "output_type": "execute_result"
    }
   ],
   "source": [
    "num"
   ]
  },
  {
   "cell_type": "code",
   "execution_count": 68,
   "metadata": {},
   "outputs": [
    {
     "name": "stdout",
     "output_type": "stream",
     "text": [
      "9\n",
      "11\n",
      "121\n",
      "181\n",
      "1001\n"
     ]
    }
   ],
   "source": [
    "console.log(angkaPalindrome(8)); // 9\n",
    "console.log(angkaPalindrome(10)); // 11\n",
    "console.log(angkaPalindrome(117)); // 121\n",
    "console.log(angkaPalindrome(175)); // 181\n",
    "console.log(angkaPalindrome(1000)); // 1001"
   ]
  },
  {
   "cell_type": "markdown",
   "metadata": {},
   "source": [
    "_______"
   ]
  },
  {
   "cell_type": "code",
   "execution_count": 1,
   "metadata": {},
   "outputs": [],
   "source": [
    "// // TEST CASES HITUNG JUMLAH KATA\n",
    "// console.log(hitungJumlahKata('I have a dream')); // 4\n",
    "// console.log(hitungJumlahKata('Never eat shredded wheat or cake')); // 6\n",
    "// console.log(hitungJumlahKata('A song to sing')); // 4\n",
    "// console.log(hitungJumlahKata('I')); // 1\n",
    "// console.log(hitungJumlahKata('I believe I can code')); // 5"
   ]
  },
  {
   "cell_type": "code",
   "execution_count": 2,
   "metadata": {},
   "outputs": [],
   "source": [
    "//cara mudah\n",
    "function hitungJumlahKata(kalimat) {\n",
    "    return kalimat.split(\" \").length\n",
    "}"
   ]
  },
  {
   "cell_type": "code",
   "execution_count": 3,
   "metadata": {},
   "outputs": [
    {
     "name": "stdout",
     "output_type": "stream",
     "text": [
      "4\n"
     ]
    }
   ],
   "source": [
    "console.log(hitungJumlahKata('I have a dream'));"
   ]
  },
  {
   "cell_type": "code",
   "execution_count": 21,
   "metadata": {},
   "outputs": [],
   "source": [
    "//cara buat split sendiri\n",
    "function split(kalimat, pemisah){\n",
    "    var result = []\n",
    "    kalimat.trim()\n",
    "    var kata = ''\n",
    "    for(let i=0; i<kalimat.length; i++){\n",
    "        if(kalimat[i]!==pemisah){\n",
    "            kata = kata + kalimat[i]\n",
    "        }\n",
    "        else{\n",
    "            result.push(kata)\n",
    "            kata = ''\n",
    "        }\n",
    "    }\n",
    "    result.push(kata)\n",
    "    return result\n",
    "}\n",
    "\n",
    "function hitungJumlahKata(kalimat) {\n",
    "    return split(kalimat, ' ').length\n",
    "}"
   ]
  },
  {
   "cell_type": "code",
   "execution_count": 4,
   "metadata": {},
   "outputs": [],
   "source": [
    "var kalimat = 'Never eat shredded wheat or cake'"
   ]
  },
  {
   "cell_type": "code",
   "execution_count": 15,
   "metadata": {},
   "outputs": [],
   "source": [
    "function split(kalimat, pemisah){\n",
    "    var result = []\n",
    "    kalimat.trim()\n",
    "    var kata = ''\n",
    "    for(let i=0; i<kalimat.length; i++){\n",
    "        if(kalimat[i]!==pemisah){\n",
    "            kata = kata + kalimat[i]\n",
    "        }\n",
    "        else{\n",
    "            result.push(kata)\n",
    "            kata = ''\n",
    "        }\n",
    "    }\n",
    "    result.push(kata)\n",
    "    return result\n",
    "}"
   ]
  },
  {
   "cell_type": "code",
   "execution_count": 16,
   "metadata": {},
   "outputs": [
    {
     "name": "stdout",
     "output_type": "stream",
     "text": [
      "A\n",
      "s\n",
      "o\n",
      "n\n",
      "g\n",
      "t\n",
      "o\n",
      "s\n",
      "i\n",
      "n\n",
      "g\n"
     ]
    },
    {
     "data": {
      "text/plain": [
       "4"
      ]
     },
     "execution_count": 16,
     "metadata": {},
     "output_type": "execute_result"
    }
   ],
   "source": [
    "var kalimat = 'A song to sing'\n",
    "var pemisah = ' '\n",
    "\n",
    "var result = []\n",
    "kalimat.trim()\n",
    "var kata = ''\n",
    "for(let i=0; i<kalimat.length; i++){\n",
    "    if(kalimat[i]!==pemisah){\n",
    "        console.log(kalimat[i])\n",
    "        kata = kata + kalimat[i]\n",
    "    }\n",
    "    else{\n",
    "        result.push(kata)\n",
    "        kata = ''\n",
    "    }\n",
    "}\n",
    "result.push(kata)"
   ]
  },
  {
   "cell_type": "code",
   "execution_count": 17,
   "metadata": {},
   "outputs": [
    {
     "data": {
      "text/plain": [
       "[ 'A', 'song', 'to', 'sing' ]"
      ]
     },
     "execution_count": 17,
     "metadata": {},
     "output_type": "execute_result"
    }
   ],
   "source": [
    "result"
   ]
  },
  {
   "cell_type": "code",
   "execution_count": 18,
   "metadata": {},
   "outputs": [],
   "source": [
    "var kalimat = 'Never eat shredded wheat or cake'"
   ]
  },
  {
   "cell_type": "code",
   "execution_count": 20,
   "metadata": {},
   "outputs": [
    {
     "data": {
      "text/plain": [
       "[ 'N', 'v', 'r ', 'at shr', 'dd', 'd wh', 'at or cak', '' ]"
      ]
     },
     "execution_count": 20,
     "metadata": {},
     "output_type": "execute_result"
    }
   ],
   "source": [
    "split(kalimat, 'e')"
   ]
  },
  {
   "cell_type": "code",
   "execution_count": 22,
   "metadata": {},
   "outputs": [
    {
     "name": "stdout",
     "output_type": "stream",
     "text": [
      "4\n",
      "6\n",
      "4\n",
      "1\n",
      "5\n"
     ]
    }
   ],
   "source": [
    "console.log(hitungJumlahKata('I have a dream')); // 4\n",
    "console.log(hitungJumlahKata('Never eat shredded wheat or cake')); // 6\n",
    "console.log(hitungJumlahKata('A song to sing')); // 4\n",
    "console.log(hitungJumlahKata('I')); // 1\n",
    "console.log(hitungJumlahKata('I believe I can code')); // 5"
   ]
  },
  {
   "cell_type": "markdown",
   "metadata": {},
   "source": [
    "____________"
   ]
  },
  {
   "cell_type": "code",
   "execution_count": 23,
   "metadata": {},
   "outputs": [],
   "source": [
    "// // TEST CASES\n",
    "// console.log(pasanganTerbesar(641573)); // 73\n",
    "// console.log(pasanganTerbesar(12783456)); // 83\n",
    "// console.log(pasanganTerbesar(910233)); // 91\n",
    "// console.log(pasanganTerbesar(71856421)); // 85\n",
    "// console.log(pasanganTerbesar(79918293)); // 99"
   ]
  },
  {
   "cell_type": "code",
   "execution_count": 24,
   "metadata": {},
   "outputs": [],
   "source": [
    "// Function akan menentukan pasangan dua digit angka mana yang paling besar dan me-return angka tersebut. \n",
    "// Contoh, jika angka adalah 183928, maka function akan me-return 92, pasangan dua digit angka yang paling \n",
    "// besar diantara yang lainnya."
   ]
  },
  {
   "cell_type": "code",
   "execution_count": 39,
   "metadata": {},
   "outputs": [],
   "source": [
    "//cara mudah\n",
    "function pasanganTerbesar(num) {\n",
    "    ph = String(num).slice(0,2)\n",
    "    for(let i=1; i<String(num).length; i++){\n",
    "        if(parseInt(ph)<parseInt(String(num).slice(i,2+i))){\n",
    "            ph = String(num).slice(i,2+i)\n",
    "        }\n",
    "    }\n",
    "    return ph\n",
    "}"
   ]
  },
  {
   "cell_type": "code",
   "execution_count": 25,
   "metadata": {},
   "outputs": [],
   "source": [
    "var num = 12783456"
   ]
  },
  {
   "cell_type": "code",
   "execution_count": 31,
   "metadata": {},
   "outputs": [],
   "source": [
    "var ph"
   ]
  },
  {
   "cell_type": "code",
   "execution_count": 27,
   "metadata": {},
   "outputs": [
    {
     "data": {
      "text/plain": [
       "'27'"
      ]
     },
     "execution_count": 27,
     "metadata": {},
     "output_type": "execute_result"
    }
   ],
   "source": [
    "String(num).slice(1,3)"
   ]
  },
  {
   "cell_type": "code",
   "execution_count": 33,
   "metadata": {},
   "outputs": [
    {
     "name": "stdout",
     "output_type": "stream",
     "text": [
      "undefined\n"
     ]
    }
   ],
   "source": [
    "console.log(ph)"
   ]
  },
  {
   "cell_type": "code",
   "execution_count": 37,
   "metadata": {},
   "outputs": [],
   "source": [
    "ph = String(num).slice(0,2)\n",
    "for(let i=1; i<String(num).length; i++){\n",
    "    if(parseInt(ph)<parseInt(String(num).slice(i,2+i))){\n",
    "        ph = String(num).slice(i,2+i)\n",
    "    }\n",
    "}"
   ]
  },
  {
   "cell_type": "code",
   "execution_count": 38,
   "metadata": {},
   "outputs": [
    {
     "data": {
      "text/plain": [
       "'83'"
      ]
     },
     "execution_count": 38,
     "metadata": {},
     "output_type": "execute_result"
    }
   ],
   "source": [
    "ph"
   ]
  },
  {
   "cell_type": "code",
   "execution_count": 36,
   "metadata": {},
   "outputs": [
    {
     "data": {
      "text/plain": [
       "27"
      ]
     },
     "execution_count": 36,
     "metadata": {},
     "output_type": "execute_result"
    }
   ],
   "source": [
    "parseInt(String(num).slice(i,2+i))"
   ]
  },
  {
   "cell_type": "code",
   "execution_count": 40,
   "metadata": {},
   "outputs": [
    {
     "name": "stdout",
     "output_type": "stream",
     "text": [
      "73\n",
      "83\n",
      "91\n",
      "85\n",
      "99\n"
     ]
    }
   ],
   "source": [
    "console.log(pasanganTerbesar(641573)); // 73\n",
    "console.log(pasanganTerbesar(12783456)); // 83\n",
    "console.log(pasanganTerbesar(910233)); // 91\n",
    "console.log(pasanganTerbesar(71856421)); // 85\n",
    "console.log(pasanganTerbesar(79918293)); // 99"
   ]
  },
  {
   "cell_type": "code",
   "execution_count": 50,
   "metadata": {},
   "outputs": [],
   "source": [
    "//cara membuat slice sendiri\n",
    "function slice_string(string, start, stop){\n",
    "    var result = ''\n",
    "    for(let i=start; i<stop; i++){\n",
    "        result = result + string[i]\n",
    "    }\n",
    "    return result\n",
    "}\n",
    "\n",
    "function pasanganTerbesar(num) {\n",
    "    ph = slice_string(String(num), 0, 2)\n",
    "    for(let i=1; i<String(num).length; i++){\n",
    "        \n",
    "        if(parseInt(ph)<parseInt(slice_string(String(num), i, 2+i))){\n",
    "            ph = String(num).slice(i,2+i)\n",
    "        }\n",
    "    }\n",
    "    return ph\n",
    "}"
   ]
  },
  {
   "cell_type": "code",
   "execution_count": 43,
   "metadata": {},
   "outputs": [],
   "source": [
    "var string = 'abcdeghi0123456789'"
   ]
  },
  {
   "cell_type": "code",
   "execution_count": 47,
   "metadata": {},
   "outputs": [],
   "source": [
    "var result = ''"
   ]
  },
  {
   "cell_type": "code",
   "execution_count": 48,
   "metadata": {},
   "outputs": [
    {
     "data": {
      "text/plain": [
       "'abc'"
      ]
     },
     "execution_count": 48,
     "metadata": {},
     "output_type": "execute_result"
    }
   ],
   "source": [
    "var start = 0\n",
    "var stop = 3\n",
    "for(let i=start; i<stop; i++){\n",
    "    result = result + string[i]\n",
    "}"
   ]
  },
  {
   "cell_type": "code",
   "execution_count": 49,
   "metadata": {},
   "outputs": [
    {
     "data": {
      "text/plain": [
       "'abc'"
      ]
     },
     "execution_count": 49,
     "metadata": {},
     "output_type": "execute_result"
    }
   ],
   "source": [
    "result"
   ]
  },
  {
   "cell_type": "code",
   "execution_count": 51,
   "metadata": {},
   "outputs": [
    {
     "name": "stdout",
     "output_type": "stream",
     "text": [
      "73\n",
      "83\n",
      "91\n",
      "85\n",
      "99\n"
     ]
    }
   ],
   "source": [
    "console.log(pasanganTerbesar(641573)); // 73\n",
    "console.log(pasanganTerbesar(12783456)); // 83\n",
    "console.log(pasanganTerbesar(910233)); // 91\n",
    "console.log(pasanganTerbesar(71856421)); // 85\n",
    "console.log(pasanganTerbesar(79918293)); // 99"
   ]
  },
  {
   "cell_type": "markdown",
   "metadata": {},
   "source": [
    "_____________"
   ]
  },
  {
   "cell_type": "markdown",
   "metadata": {},
   "source": [
    "# Membuat Split Sendiri"
   ]
  },
  {
   "cell_type": "code",
   "execution_count": 52,
   "metadata": {},
   "outputs": [],
   "source": [
    "function split(kalimat, pemisah){\n",
    "    var result = []\n",
    "    kalimat.trim()\n",
    "    var kata = ''\n",
    "    for(let i=0; i<kalimat.length; i++){\n",
    "        if(kalimat[i]!==pemisah){\n",
    "            kata = kata + kalimat[i]\n",
    "        }\n",
    "        else{\n",
    "            result.push(kata)\n",
    "            kata = ''\n",
    "        }\n",
    "    }\n",
    "    result.push(kata)\n",
    "    return result\n",
    "}"
   ]
  },
  {
   "cell_type": "code",
   "execution_count": 53,
   "metadata": {},
   "outputs": [
    {
     "data": {
      "text/plain": [
       "[ 'Never', 'eat', 'shredded', 'wheat', 'or', 'cake' ]"
      ]
     },
     "execution_count": 53,
     "metadata": {},
     "output_type": "execute_result"
    }
   ],
   "source": [
    "split('Never eat shredded wheat or cake', ' ')"
   ]
  },
  {
   "cell_type": "markdown",
   "metadata": {},
   "source": [
    "___________________"
   ]
  },
  {
   "cell_type": "markdown",
   "metadata": {},
   "source": [
    "# Membuat Slice Sendiri"
   ]
  },
  {
   "cell_type": "code",
   "execution_count": 54,
   "metadata": {},
   "outputs": [],
   "source": [
    "function slice_string(string, start, stop){\n",
    "    var result = ''\n",
    "    for(let i=start; i<stop; i++){\n",
    "        result = result + string[i]\n",
    "    }\n",
    "    return result\n",
    "}"
   ]
  },
  {
   "cell_type": "code",
   "execution_count": 55,
   "metadata": {},
   "outputs": [
    {
     "data": {
      "text/plain": [
       "'bcde'"
      ]
     },
     "execution_count": 55,
     "metadata": {},
     "output_type": "execute_result"
    }
   ],
   "source": [
    "slice_string('abcdefghi0123456789', 1, 5)"
   ]
  },
  {
   "cell_type": "code",
   "execution_count": null,
   "metadata": {},
   "outputs": [],
   "source": []
  }
 ],
 "metadata": {
  "kernelspec": {
   "display_name": "Javascript (Node.js)",
   "language": "javascript",
   "name": "javascript"
  },
  "language_info": {
   "file_extension": ".js",
   "mimetype": "application/javascript",
   "name": "javascript",
   "version": "8.10.0"
  }
 },
 "nbformat": 4,
 "nbformat_minor": 2
}
