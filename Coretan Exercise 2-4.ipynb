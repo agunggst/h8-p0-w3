{
 "cells": [
  {
   "cell_type": "code",
   "execution_count": 76,
   "metadata": {},
   "outputs": [],
   "source": [
    "//Balik String"
   ]
  },
  {
   "cell_type": "code",
   "execution_count": 77,
   "metadata": {},
   "outputs": [
    {
     "name": "stdout",
     "output_type": "stream",
     "text": [
      "!dlrow olleh\n"
     ]
    }
   ],
   "source": [
    "function balikString(str){\n",
    "    var new_str = ''\n",
    "    for(let i=0; i<str.length; i++){\n",
    "        new_str = new_str + str[str.length-(1+i)]\n",
    "    }\n",
    "    return new_str\n",
    "}\n",
    "\n",
    "console.log(balikString(\"hello world!\"))"
   ]
  },
  {
   "cell_type": "markdown",
   "metadata": {},
   "source": [
    "__________________________________"
   ]
  },
  {
   "cell_type": "code",
   "execution_count": null,
   "metadata": {},
   "outputs": [],
   "source": [
    "//input:\n",
    "// var input = [\n",
    "//                 [\"0001\", \"Roman Alamsyah\", \"Bandar Lampung\", \"21/05/1989\", \"Membaca\"],\n",
    "//                 [\"0002\", \"Dika Sembiring\", \"Medan\", \"10/10/1992\", \"Bermain Gitar\"],\n",
    "//                 [\"0003\", \"Winona\", \"Ambon\", \"25/12/1965\", \"Memasak\"],\n",
    "//                 [\"0004\", \"Bintang Senjaya\", \"Martapura\", \"6/4/1970\", \"Berkebun\"]\n",
    "//             ]"
   ]
  },
  {
   "cell_type": "code",
   "execution_count": 75,
   "metadata": {},
   "outputs": [],
   "source": [
    "//output:\n",
    "// Nomor ID: 0001\n",
    "// Nama Lengkap: Roman Alamsyah\n",
    "// TTL: Bandar Lampung 21/05/1989\n",
    "// Hobi: Membaca\n",
    "\n",
    "// Nomor ID: 0002\n",
    "// Nama Lengkap: Dika Sembiring\n",
    "// TTL: Medan 10/10/1992\n",
    "// Hobi: Bermain Gitar\n",
    "\n",
    "// Nomor ID: 0003\n",
    "// Nama Lengkap: Winona\n",
    "// TTL: Ambon 25/12/1965\n",
    "// Hobi: Memasak\n",
    "\n",
    "// Nomor ID: 0004\n",
    "// Nama Lengkap: Bintang Senjaya\n",
    "// TTL: Martapura 6/4/1970\n",
    "// Hobi: Berkebun"
   ]
  },
  {
   "cell_type": "code",
   "execution_count": null,
   "metadata": {},
   "outputs": [],
   "source": [
    "var input = [\n",
    "                [\"0001\", \"Roman Alamsyah\", \"Bandar Lampung\", \"21/05/1989\", \"Membaca\"],\n",
    "                [\"0002\", \"Dika Sembiring\", \"Medan\", \"10/10/1992\", \"Bermain Gitar\"],\n",
    "                [\"0003\", \"Winona\", \"Ambon\", \"25/12/1965\", \"Memasak\"],\n",
    "                [\"0004\", \"Bintang Senjaya\", \"Martapura\", \"6/4/1970\", \"Berkebun\"]\n",
    "            ]"
   ]
  },
  {
   "cell_type": "code",
   "execution_count": 6,
   "metadata": {},
   "outputs": [],
   "source": [
    "function dataHandling(input){\n",
    "    for(let i=0; i<input.length; i++){\n",
    "        var data = input[i]\n",
    "        console.log(`Nomor ID: ${data[0]}`)\n",
    "        console.log(`Nama Lengkap: ${data[1]}`)\n",
    "        console.log(`TTL: ${data[2]} ${data[3]}`)\n",
    "        console.log(`Hobi: ${data[4]}`)\n",
    "        console.log(\"\")\n",
    "    }\n",
    "}   "
   ]
  },
  {
   "cell_type": "code",
   "execution_count": 7,
   "metadata": {},
   "outputs": [
    {
     "name": "stdout",
     "output_type": "stream",
     "text": [
      "Nomor ID: 0001\n",
      "Nama Lengkap: Roman Alamsyah\n",
      "TTL: Bandar Lampung 21/05/1989\n",
      "Hobi: Membaca\n",
      "\n",
      "Nomor ID: 0002\n",
      "Nama Lengkap: Dika Sembiring\n",
      "TTL: Medan 10/10/1992\n",
      "Hobi: Bermain Gitar\n",
      "\n",
      "Nomor ID: 0003\n",
      "Nama Lengkap: Winona\n",
      "TTL: Ambon 25/12/1965\n",
      "Hobi: Memasak\n",
      "\n",
      "Nomor ID: 0004\n",
      "Nama Lengkap: Bintang Senjaya\n",
      "TTL: Martapura 6/4/1970\n",
      "Hobi: Berkebun\n",
      "\n"
     ]
    }
   ],
   "source": [
    "dataHandling(input)"
   ]
  },
  {
   "cell_type": "markdown",
   "metadata": {},
   "source": [
    "_____________________________"
   ]
  },
  {
   "cell_type": "code",
   "execution_count": 8,
   "metadata": {},
   "outputs": [],
   "source": [
    "var array = ['a', 'b', 2, 'd']"
   ]
  },
  {
   "cell_type": "code",
   "execution_count": 9,
   "metadata": {},
   "outputs": [
    {
     "data": {
      "text/plain": [
       "'a,b,2,d'"
      ]
     },
     "execution_count": 9,
     "metadata": {},
     "output_type": "execute_result"
    }
   ],
   "source": [
    "array.join()"
   ]
  },
  {
   "cell_type": "markdown",
   "metadata": {},
   "source": [
    "________________"
   ]
  },
  {
   "cell_type": "code",
   "execution_count": 10,
   "metadata": {},
   "outputs": [],
   "source": [
    "// var input = [\"0001\", \"Roman Alamsyah \", \"Bandar Lampung\", \"21/05/1989\", \"Membaca\"];\n",
    "// dataHandling2(input);\n",
    "\n",
    "// /**\n",
    "//  * keluaran yang diharapkan (pada console)\n",
    "//  *\n",
    "//  * [\"0001\", \"Roman Alamsyah Elsharawy\", \"Provinsi Bandar Lampung\", \"21/05/1989\", \"Pria\", \"SMA Internasional Metro\"]\n",
    "//  * Mei\n",
    "//  * [\"1989\", \"21\", \"05\"]\n",
    "//  * 21-05-1989\n",
    "//  * Roman Alamsyah\n",
    "//  */"
   ]
  },
  {
   "cell_type": "code",
   "execution_count": 71,
   "metadata": {},
   "outputs": [],
   "source": [
    "var input = [\"0001\", \"Roman Alamsyah \", \"Bandar Lampung\", \"21/05/1989\", \"Membaca\"];"
   ]
  },
  {
   "cell_type": "code",
   "execution_count": 72,
   "metadata": {},
   "outputs": [],
   "source": [
    "function dataHandling2(input){\n",
    "    var name = input[1].split(\" \")\n",
    "    name.pop()\n",
    "    name.push(\"Elsharawy\")\n",
    "    input.splice(1, 1, name.join(\" \"))\n",
    "    \n",
    "    var prov = input[2].split(\" \")\n",
    "    prov.unshift(\"Provinsi\")\n",
    "    input.splice(2, 1, prov.join(\" \"))\n",
    "    \n",
    "    input.splice(4, 1, \"Pria\", \"SMA Internasional Metro\")\n",
    "    \n",
    "    console.log(input)\n",
    "    \n",
    "    var ttl = input[3].split(\"/\")\n",
    "    switch(ttl[1]){\n",
    "    case '01': console.log(\"Januari\"); break;\n",
    "    case '02': console.log(\"Februari\"); break;\n",
    "    case '03': console.log(\"Maret\"); break;\n",
    "    case '04': console.log(\"April\"); break;\n",
    "    case '05': console.log(\"Mei\"); break;\n",
    "    case '06': console.log(\"Juni\"); break;\n",
    "    case '07': console.log(\"Juli\"); break;\n",
    "    case '08': console.log(\"Agustus\"); break;\n",
    "    case '09': console.log(\"September\"); break;\n",
    "    case '10': console.log(\"Oktober\"); break;\n",
    "    case '11': console.log(\"Novemer\"); break;\n",
    "    case '12': console.log(\"Desember\"); break;\n",
    "    default: console.log(\"Not Found\"); break;\n",
    "    }\n",
    "    \n",
    "    var tahun = ttl[2]\n",
    "    ttl.pop()\n",
    "    ttl.unshift(tahun)\n",
    "    console.log(ttl)\n",
    "    \n",
    "    var ttl = input[3].split(\"/\")\n",
    "    console.log(ttl.join(\"-\"))\n",
    "    \n",
    "    name.pop()\n",
    "    console.log(name.join(\" \"))\n",
    "}"
   ]
  },
  {
   "cell_type": "code",
   "execution_count": 73,
   "metadata": {},
   "outputs": [
    {
     "name": "stdout",
     "output_type": "stream",
     "text": [
      "[ '0001',\n",
      "  'Roman Alamsyah Elsharawy',\n",
      "  'Provinsi Bandar Lampung',\n",
      "  '21/05/1989',\n",
      "  'Pria',\n",
      "  'SMA Internasional Metro' ]\n",
      "Mei\n",
      "[ '1989', '21', '05' ]\n",
      "21-05-1989\n",
      "Roman Alamsyah\n"
     ]
    }
   ],
   "source": [
    "dataHandling2(input)"
   ]
  },
  {
   "cell_type": "code",
   "execution_count": 67,
   "metadata": {},
   "outputs": [
    {
     "data": {
      "text/plain": [
       "[ 'Roman', 'Alamsyah', 'Elsharawy' ]"
      ]
     },
     "execution_count": 67,
     "metadata": {},
     "output_type": "execute_result"
    }
   ],
   "source": [
    "name"
   ]
  },
  {
   "cell_type": "code",
   "execution_count": 29,
   "metadata": {},
   "outputs": [
    {
     "data": {
      "text/plain": [
       "[ 'Roman Alamsyah ' ]"
      ]
     },
     "execution_count": 29,
     "metadata": {},
     "output_type": "execute_result"
    }
   ],
   "source": [
    "var name = input[1].split(\" \")\n",
    "name.pop()\n",
    "name.push(\"Elsharawy\")\n",
    "input.splice(1,1, name.join(\" \"))"
   ]
  },
  {
   "cell_type": "code",
   "execution_count": 30,
   "metadata": {},
   "outputs": [
    {
     "data": {
      "text/plain": [
       "[ '0001',\n",
       "  'Roman Alamsyah Elsharawy',\n",
       "  'Bandar Lampung',\n",
       "  '21/05/1989',\n",
       "  'Membaca' ]"
      ]
     },
     "execution_count": 30,
     "metadata": {},
     "output_type": "execute_result"
    }
   ],
   "source": [
    "input"
   ]
  },
  {
   "cell_type": "code",
   "execution_count": 32,
   "metadata": {},
   "outputs": [
    {
     "data": {
      "text/plain": [
       "[ 'Bandar Lampung' ]"
      ]
     },
     "execution_count": 32,
     "metadata": {},
     "output_type": "execute_result"
    }
   ],
   "source": [
    "var prov = input[2].split(\" \")\n",
    "prov.unshift(\"Provinsi\")\n",
    "input.splice(2, 1, prov.join(\" \"))"
   ]
  },
  {
   "cell_type": "code",
   "execution_count": 33,
   "metadata": {},
   "outputs": [
    {
     "data": {
      "text/plain": [
       "[ '0001',\n",
       "  'Roman Alamsyah Elsharawy',\n",
       "  'Provinsi Bandar Lampung',\n",
       "  '21/05/1989',\n",
       "  'Membaca' ]"
      ]
     },
     "execution_count": 33,
     "metadata": {},
     "output_type": "execute_result"
    }
   ],
   "source": [
    "input"
   ]
  },
  {
   "cell_type": "code",
   "execution_count": 36,
   "metadata": {},
   "outputs": [
    {
     "data": {
      "text/plain": [
       "[ 'Membaca' ]"
      ]
     },
     "execution_count": 36,
     "metadata": {},
     "output_type": "execute_result"
    }
   ],
   "source": [
    "input.splice(4, 1, \"Pria\", \"SMA Internasional Metro\")"
   ]
  },
  {
   "cell_type": "code",
   "execution_count": 37,
   "metadata": {},
   "outputs": [
    {
     "data": {
      "text/plain": [
       "[ '0001',\n",
       "  'Roman Alamsyah Elsharawy',\n",
       "  'Provinsi Bandar Lampung',\n",
       "  '21/05/1989',\n",
       "  'Pria',\n",
       "  'SMA Internasional Metro' ]"
      ]
     },
     "execution_count": 37,
     "metadata": {},
     "output_type": "execute_result"
    }
   ],
   "source": [
    "input"
   ]
  },
  {
   "cell_type": "code",
   "execution_count": 44,
   "metadata": {},
   "outputs": [],
   "source": [
    "var ttl = input[3].split(\"/\")"
   ]
  },
  {
   "cell_type": "code",
   "execution_count": 46,
   "metadata": {},
   "outputs": [
    {
     "data": {
      "text/plain": [
       "'05'"
      ]
     },
     "execution_count": 46,
     "metadata": {},
     "output_type": "execute_result"
    }
   ],
   "source": [
    "ttl[1]"
   ]
  },
  {
   "cell_type": "code",
   "execution_count": 47,
   "metadata": {},
   "outputs": [
    {
     "name": "stdout",
     "output_type": "stream",
     "text": [
      "Mei\n"
     ]
    }
   ],
   "source": [
    "switch(ttl[1]){\n",
    "    case '01': console.log(\"Januari\"); break;\n",
    "    case '02': console.log(\"Februari\"); break;\n",
    "    case '03': console.log(\"Maret\"); break;\n",
    "    case '04': console.log(\"April\"); break;\n",
    "    case '05': console.log(\"Mei\"); break;\n",
    "    case '06': console.log(\"Juni\"); break;\n",
    "    case '07': console.log(\"Juli\"); break;\n",
    "    case '08': console.log(\"Agustus\"); break;\n",
    "    case '09': console.log(\"September\"); break;\n",
    "    case '10': console.log(\"Oktober\"); break;\n",
    "    case '11': console.log(\"Novemer\"); break;\n",
    "    case '12': console.log(\"Desember\"); break;\n",
    "    default: console.log(\"Not Found\"); break;\n",
    "}"
   ]
  },
  {
   "cell_type": "code",
   "execution_count": 51,
   "metadata": {},
   "outputs": [
    {
     "data": {
      "text/plain": [
       "[ '21', '05', '1989' ]"
      ]
     },
     "execution_count": 51,
     "metadata": {},
     "output_type": "execute_result"
    }
   ],
   "source": [
    "ttl"
   ]
  },
  {
   "cell_type": "code",
   "execution_count": 52,
   "metadata": {},
   "outputs": [],
   "source": [
    "var tahun = ttl[2]"
   ]
  },
  {
   "cell_type": "code",
   "execution_count": 53,
   "metadata": {},
   "outputs": [
    {
     "data": {
      "text/plain": [
       "'1989'"
      ]
     },
     "execution_count": 53,
     "metadata": {},
     "output_type": "execute_result"
    }
   ],
   "source": [
    "ttl.pop()"
   ]
  },
  {
   "cell_type": "code",
   "execution_count": 54,
   "metadata": {},
   "outputs": [
    {
     "data": {
      "text/plain": [
       "3"
      ]
     },
     "execution_count": 54,
     "metadata": {},
     "output_type": "execute_result"
    }
   ],
   "source": [
    "ttl.unshift(tahun)"
   ]
  },
  {
   "cell_type": "code",
   "execution_count": 55,
   "metadata": {},
   "outputs": [
    {
     "data": {
      "text/plain": [
       "[ '1989', '21', '05' ]"
      ]
     },
     "execution_count": 55,
     "metadata": {},
     "output_type": "execute_result"
    }
   ],
   "source": [
    "ttl"
   ]
  },
  {
   "cell_type": "code",
   "execution_count": 59,
   "metadata": {},
   "outputs": [
    {
     "data": {
      "text/plain": [
       "'21-05-1989'"
      ]
     },
     "execution_count": 59,
     "metadata": {},
     "output_type": "execute_result"
    }
   ],
   "source": [
    "var ttl = input[3].split(\"/\")\n",
    "    ttl.join(\"-\")"
   ]
  },
  {
   "cell_type": "code",
   "execution_count": null,
   "metadata": {},
   "outputs": [],
   "source": []
  }
 ],
 "metadata": {
  "kernelspec": {
   "display_name": "Javascript (Node.js)",
   "language": "javascript",
   "name": "javascript"
  },
  "language_info": {
   "file_extension": ".js",
   "mimetype": "application/javascript",
   "name": "javascript",
   "version": "8.10.0"
  }
 },
 "nbformat": 4,
 "nbformat_minor": 2
}
