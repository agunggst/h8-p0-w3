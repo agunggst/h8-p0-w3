{
 "cells": [
  {
   "cell_type": "code",
   "execution_count": 1,
   "metadata": {},
   "outputs": [],
   "source": [
    "// // TEST CASES MENCARI MEAN\n",
    "// console.log(cariMean([1, 2, 3, 4, 5])); // 3\n",
    "// console.log(cariMean([3, 5, 7, 5, 3])); // 5\n",
    "// console.log(cariMean([6, 5, 4, 7, 3])); // 5\n",
    "// console.log(cariMean([1, 3, 3])); // 2\n",
    "// console.log(cariMean([7, 7, 7, 7, 7])); // 7"
   ]
  },
  {
   "cell_type": "code",
   "execution_count": 2,
   "metadata": {},
   "outputs": [],
   "source": [
    "// Function akan me-return mean dari array atau deret angka tersebut. \n",
    "// Mean adalah angka rata-rata dari deret bilangan tersebut. \n",
    "// Contoh, mean atau rata-rata dari [1, 2, 3, 4, 5] adalah 3. \n",
    "// Kita perlu kemudian melakukan pembulatan angka dari hasil mean yang didapatkan (pembulatan ke atas)."
   ]
  },
  {
   "cell_type": "code",
   "execution_count": 74,
   "metadata": {},
   "outputs": [],
   "source": [
    "function halfupRound(num){\n",
    "    if(num%1==0){\n",
    "        return num\n",
    "    }\n",
    "    if(num-parseInt(num)>=0.5){\n",
    "        num += 1-(num-parseInt(num))\n",
    "    }\n",
    "    else{\n",
    "        num -= num-parseInt(num)\n",
    "    }\n",
    "    return num\n",
    "}\n",
    "\n",
    "function cariMean(arr) {\n",
    "    var sum = arr[0]\n",
    "    for(let i=1; i<arr.length; i++){\n",
    "        sum += arr[i]\n",
    "    }\n",
    "    return halfupRound(sum/arr.length)\n",
    "}"
   ]
  },
  {
   "cell_type": "code",
   "execution_count": 69,
   "metadata": {},
   "outputs": [],
   "source": [
    "var arr = [3, 5, 7, 5, 3]"
   ]
  },
  {
   "cell_type": "code",
   "execution_count": 70,
   "metadata": {},
   "outputs": [
    {
     "data": {
      "text/plain": [
       "23"
      ]
     },
     "execution_count": 70,
     "metadata": {},
     "output_type": "execute_result"
    }
   ],
   "source": [
    "var sum = arr[0]\n",
    "for(let i=1; i<arr.length; i++){\n",
    "    sum += arr[i]\n",
    "}"
   ]
  },
  {
   "cell_type": "code",
   "execution_count": 73,
   "metadata": {},
   "outputs": [
    {
     "data": {
      "text/plain": [
       "23"
      ]
     },
     "execution_count": 73,
     "metadata": {},
     "output_type": "execute_result"
    }
   ],
   "source": [
    "sum"
   ]
  },
  {
   "cell_type": "code",
   "execution_count": 60,
   "metadata": {},
   "outputs": [],
   "source": [
    "var num = sum/arr.length"
   ]
  },
  {
   "cell_type": "code",
   "execution_count": 64,
   "metadata": {},
   "outputs": [
    {
     "data": {
      "text/plain": [
       "2.1"
      ]
     },
     "execution_count": 64,
     "metadata": {},
     "output_type": "execute_result"
    }
   ],
   "source": [
    "num = 2.1"
   ]
  },
  {
   "cell_type": "code",
   "execution_count": 65,
   "metadata": {},
   "outputs": [
    {
     "data": {
      "text/plain": [
       "2"
      ]
     },
     "execution_count": 65,
     "metadata": {},
     "output_type": "execute_result"
    }
   ],
   "source": [
    "if(num-parseInt(num)>=0.5){\n",
    "    num += 1-(num-parseInt(num))\n",
    "}\n",
    "else{\n",
    "    num -= num-parseInt(num)\n",
    "}"
   ]
  },
  {
   "cell_type": "code",
   "execution_count": 66,
   "metadata": {},
   "outputs": [
    {
     "data": {
      "text/plain": [
       "2"
      ]
     },
     "execution_count": 66,
     "metadata": {},
     "output_type": "execute_result"
    }
   ],
   "source": [
    "num"
   ]
  },
  {
   "cell_type": "code",
   "execution_count": 51,
   "metadata": {},
   "outputs": [
    {
     "data": {
      "text/plain": [
       "0.40000000000000036"
      ]
     },
     "execution_count": 51,
     "metadata": {},
     "output_type": "execute_result"
    }
   ],
   "source": [
    "1-(num-parseInt(num))"
   ]
  },
  {
   "cell_type": "code",
   "execution_count": 37,
   "metadata": {},
   "outputs": [
    {
     "data": {
      "text/plain": [
       "4"
      ]
     },
     "execution_count": 37,
     "metadata": {},
     "output_type": "execute_result"
    }
   ],
   "source": [
    "sum/arr.length+(1-(sum/arr.length-parseInt(sum/arr.length)))"
   ]
  },
  {
   "cell_type": "code",
   "execution_count": 25,
   "metadata": {},
   "outputs": [
    {
     "data": {
      "text/plain": [
       "4"
      ]
     },
     "execution_count": 25,
     "metadata": {},
     "output_type": "execute_result"
    }
   ],
   "source": [
    "parseInt(sum/arr.length)"
   ]
  },
  {
   "cell_type": "code",
   "execution_count": 38,
   "metadata": {},
   "outputs": [
    {
     "data": {
      "text/plain": [
       "0"
      ]
     },
     "execution_count": 38,
     "metadata": {},
     "output_type": "execute_result"
    }
   ],
   "source": [
    "3%1"
   ]
  },
  {
   "cell_type": "code",
   "execution_count": 75,
   "metadata": {},
   "outputs": [
    {
     "name": "stdout",
     "output_type": "stream",
     "text": [
      "3\n",
      "5\n",
      "5\n",
      "2\n",
      "7\n"
     ]
    }
   ],
   "source": [
    "console.log(cariMean([1, 2, 3, 4, 5])); // 3\n",
    "console.log(cariMean([3, 5, 7, 5, 3])); // 5\n",
    "console.log(cariMean([6, 5, 4, 7, 3])); // 5\n",
    "console.log(cariMean([1, 3, 3])); // 2\n",
    "console.log(cariMean([7, 7, 7, 7, 7])); // 7"
   ]
  },
  {
   "cell_type": "markdown",
   "metadata": {},
   "source": [
    "_____________"
   ]
  },
  {
   "cell_type": "markdown",
   "metadata": {},
   "source": [
    "# Half Up Round"
   ]
  },
  {
   "cell_type": "code",
   "execution_count": 76,
   "metadata": {},
   "outputs": [],
   "source": [
    "function halfupRound(num){\n",
    "    if(num%1==0){\n",
    "        return num\n",
    "    }\n",
    "    if(num-parseInt(num)>=0.5){\n",
    "        num += 1-(num-parseInt(num))\n",
    "    }\n",
    "    else{\n",
    "        num -= num-parseInt(num)\n",
    "    }\n",
    "    return num\n",
    "}"
   ]
  },
  {
   "cell_type": "code",
   "execution_count": 77,
   "metadata": {},
   "outputs": [
    {
     "data": {
      "text/plain": [
       "3"
      ]
     },
     "execution_count": 77,
     "metadata": {},
     "output_type": "execute_result"
    }
   ],
   "source": [
    "halfupRound(2.7)"
   ]
  },
  {
   "cell_type": "code",
   "execution_count": 78,
   "metadata": {},
   "outputs": [
    {
     "data": {
      "text/plain": [
       "8"
      ]
     },
     "execution_count": 78,
     "metadata": {},
     "output_type": "execute_result"
    }
   ],
   "source": [
    "halfupRound(7.5)"
   ]
  },
  {
   "cell_type": "code",
   "execution_count": 79,
   "metadata": {},
   "outputs": [
    {
     "data": {
      "text/plain": [
       "1239"
      ]
     },
     "execution_count": 79,
     "metadata": {},
     "output_type": "execute_result"
    }
   ],
   "source": [
    "halfupRound(1239.1)"
   ]
  },
  {
   "cell_type": "code",
   "execution_count": 80,
   "metadata": {},
   "outputs": [
    {
     "data": {
      "text/plain": [
       "0"
      ]
     },
     "execution_count": 80,
     "metadata": {},
     "output_type": "execute_result"
    }
   ],
   "source": [
    "halfupRound(0)"
   ]
  },
  {
   "cell_type": "markdown",
   "metadata": {},
   "source": [
    "____"
   ]
  },
  {
   "cell_type": "code",
   "execution_count": 81,
   "metadata": {},
   "outputs": [],
   "source": [
    "// // TEST CASES PERKALIAN UNIK\n",
    "// console.log(perkalianUnik([2, 4, 6])); // [24, 12, 8]\n",
    "// console.log(perkalianUnik([1, 2, 3, 4, 5])); // [120, 60, 40, 30, 24]\n",
    "// console.log(perkalianUnik([1, 4, 3, 2, 5])); // [120, 30, 40, 60, 24]\n",
    "// console.log(perkalianUnik([1, 3, 3, 1])); // [9, 3, 3, 9]\n",
    "// console.log(perkalianUnik([2, 1, 8, 10, 2])); // [160, 320, 40, 32, 160]"
   ]
  },
  {
   "cell_type": "code",
   "execution_count": 82,
   "metadata": {},
   "outputs": [],
   "source": [
    "// Function akan me-return array baru yang mengandung angka yang setiap nilainya merupakan hasil kali angka lain \n",
    "// yang bukan angka itu sendiri. Contoh, jika arr adalah [1, 2, 3, 4, 5], maka \n",
    "// function akan mereturn [120, 60, 40, 30, 24], karena 120 adalah 2 * 3 * 4 * 5, \n",
    "// 60 adalah 1 * 3 * 4 * 5, 40 adalah 1 * 2 * 4 * 5, dan seterusnya."
   ]
  },
  {
   "cell_type": "code",
   "execution_count": 91,
   "metadata": {},
   "outputs": [],
   "source": [
    "function perkalianUnik(arr) {\n",
    "    var result = []\n",
    "    var array_holder = []\n",
    "    for(let i=0; i<arr.length; i++){\n",
    "        for(let j=0; j<arr.length; j++){\n",
    "            if(i!==j){\n",
    "                array_holder.push(arr[j])\n",
    "            }\n",
    "        }\n",
    "        var multiply = array_holder[0]\n",
    "        for(let k=1; k<array_holder.length; k++){\n",
    "            multiply = multiply*array_holder[k]\n",
    "        }\n",
    "        result.push(multiply)\n",
    "        array_holder =[]\n",
    "    }\n",
    "    return result\n",
    "}"
   ]
  },
  {
   "cell_type": "code",
   "execution_count": 88,
   "metadata": {},
   "outputs": [],
   "source": [
    "var arr = [1, 4, 3, 2, 5]"
   ]
  },
  {
   "cell_type": "code",
   "execution_count": 89,
   "metadata": {},
   "outputs": [
    {
     "data": {
      "text/plain": [
       "[]"
      ]
     },
     "execution_count": 89,
     "metadata": {},
     "output_type": "execute_result"
    }
   ],
   "source": [
    "var result = []\n",
    "var array_holder = []\n",
    "for(let i=0; i<arr.length; i++){\n",
    "    for(let j=0; j<arr.length; j++){\n",
    "        if(i!==j){\n",
    "            array_holder.push(arr[j])\n",
    "        }\n",
    "    }\n",
    "    var multiply = array_holder[0]\n",
    "    for(let k=1; k<array_holder.length; k++){\n",
    "        multiply = multiply*array_holder[k]\n",
    "    }\n",
    "    result.push(multiply)\n",
    "    array_holder =[]\n",
    "}"
   ]
  },
  {
   "cell_type": "code",
   "execution_count": 90,
   "metadata": {},
   "outputs": [
    {
     "data": {
      "text/plain": [
       "[ 120, 30, 40, 60, 24 ]"
      ]
     },
     "execution_count": 90,
     "metadata": {},
     "output_type": "execute_result"
    }
   ],
   "source": [
    "result"
   ]
  },
  {
   "cell_type": "code",
   "execution_count": 92,
   "metadata": {},
   "outputs": [
    {
     "name": "stdout",
     "output_type": "stream",
     "text": [
      "[ 24, 12, 8 ]\n",
      "[ 120, 60, 40, 30, 24 ]\n",
      "[ 120, 30, 40, 60, 24 ]\n",
      "[ 9, 3, 3, 9 ]\n",
      "[ 160, 320, 40, 32, 160 ]\n"
     ]
    }
   ],
   "source": [
    "console.log(perkalianUnik([2, 4, 6])); // [24, 12, 8]\n",
    "console.log(perkalianUnik([1, 2, 3, 4, 5])); // [120, 60, 40, 30, 24]\n",
    "console.log(perkalianUnik([1, 4, 3, 2, 5])); // [120, 30, 40, 60, 24]\n",
    "console.log(perkalianUnik([1, 3, 3, 1])); // [9, 3, 3, 9]\n",
    "console.log(perkalianUnik([2, 1, 8, 10, 2])); // [160, 320, 40, 32, 160]"
   ]
  },
  {
   "cell_type": "markdown",
   "metadata": {},
   "source": [
    "__________"
   ]
  },
  {
   "cell_type": "code",
   "execution_count": 93,
   "metadata": {},
   "outputs": [],
   "source": [
    "// // TEST CASES DERET ARITMATIKA\n",
    "// console.log(tentukanDeretAritmatika([1, 2, 3, 4, 5, 6])); // true\n",
    "// console.log(tentukanDeretAritmatika([2, 4, 6, 12, 24])); // false\n",
    "// console.log(tentukanDeretAritmatika([2, 4, 6, 8])); // true\n",
    "// console.log(tentukanDeretAritmatika([2, 6, 18, 54])); // false\n",
    "// console.log(tentukanDeretAritmatika([1, 2, 3, 4, 7, 9])); // false"
   ]
  },
  {
   "cell_type": "code",
   "execution_count": 94,
   "metadata": {},
   "outputs": [],
   "source": [
    "// Function tersebut akan mengembalikan true jika array dari parameter tersebut merupakan deret aritmatika. \n",
    "// Deret aritmatika adalah sebuah deret dimana perbedaan setiap angka di deret tersebut konsisten. \n",
    "// Contoh, [2, 4, 6, 8] adalah deret aritmatika dengan pertambahan nilai sebesar 2, dan \n",
    "// [2, 4, 6, 9] bukanlah deret aritmatika karena tidak perbedaan selisih antar angka yang tidak konsisten."
   ]
  },
  {
   "cell_type": "code",
   "execution_count": 105,
   "metadata": {},
   "outputs": [],
   "source": [
    "function tentukanDeretAritmatika(arr) {\n",
    "    var diff = []\n",
    "    for(let i=0; i<arr.length-1; i++){\n",
    "        diff.push(arr[i+1]-arr[i])\n",
    "    }\n",
    "    var state = true\n",
    "    for(let i=0; i<diff.length-1; i++){\n",
    "        if(diff[i]!==diff[i+1]){\n",
    "            state = false\n",
    "        }\n",
    "    }\n",
    "    return state\n",
    "}"
   ]
  },
  {
   "cell_type": "code",
   "execution_count": 100,
   "metadata": {},
   "outputs": [],
   "source": [
    "var arr = [2, 4, 6, 12, 24]"
   ]
  },
  {
   "cell_type": "code",
   "execution_count": 101,
   "metadata": {},
   "outputs": [
    {
     "data": {
      "text/plain": [
       "4"
      ]
     },
     "execution_count": 101,
     "metadata": {},
     "output_type": "execute_result"
    }
   ],
   "source": [
    "var diff = []\n",
    "for(let i=0; i<arr.length-1; i++){\n",
    "    diff.push(arr[i+1]-arr[i])\n",
    "}"
   ]
  },
  {
   "cell_type": "code",
   "execution_count": 102,
   "metadata": {},
   "outputs": [
    {
     "data": {
      "text/plain": [
       "[ 2, 2, 6, 12 ]"
      ]
     },
     "execution_count": 102,
     "metadata": {},
     "output_type": "execute_result"
    }
   ],
   "source": [
    "diff"
   ]
  },
  {
   "cell_type": "code",
   "execution_count": 103,
   "metadata": {},
   "outputs": [
    {
     "data": {
      "text/plain": [
       "false"
      ]
     },
     "execution_count": 103,
     "metadata": {},
     "output_type": "execute_result"
    }
   ],
   "source": [
    "var state = true\n",
    "for(let i=0; i<diff.length-1; i++){\n",
    "    if(diff[i]!==diff[i+1]){\n",
    "        state = false\n",
    "    }\n",
    "}"
   ]
  },
  {
   "cell_type": "code",
   "execution_count": 104,
   "metadata": {},
   "outputs": [
    {
     "data": {
      "text/plain": [
       "false"
      ]
     },
     "execution_count": 104,
     "metadata": {},
     "output_type": "execute_result"
    }
   ],
   "source": [
    "state"
   ]
  },
  {
   "cell_type": "code",
   "execution_count": 106,
   "metadata": {},
   "outputs": [
    {
     "name": "stdout",
     "output_type": "stream",
     "text": [
      "true\n",
      "false\n",
      "true\n",
      "false\n",
      "false\n"
     ]
    }
   ],
   "source": [
    "console.log(tentukanDeretAritmatika([1, 2, 3, 4, 5, 6])); // true\n",
    "console.log(tentukanDeretAritmatika([2, 4, 6, 12, 24])); // false\n",
    "console.log(tentukanDeretAritmatika([2, 4, 6, 8])); // true\n",
    "console.log(tentukanDeretAritmatika([2, 6, 18, 54])); // false\n",
    "console.log(tentukanDeretAritmatika([1, 2, 3, 4, 7, 9])); // false"
   ]
  },
  {
   "cell_type": "markdown",
   "metadata": {},
   "source": [
    "____________________"
   ]
  },
  {
   "cell_type": "code",
   "execution_count": 107,
   "metadata": {},
   "outputs": [],
   "source": [
    "// // TEST CASES DERET GEOMETRI\n",
    "// console.log(tentukanDeretGeometri([1, 3, 9, 27, 81])); // true\n",
    "// console.log(tentukanDeretGeometri([2, 4, 8, 16, 32])); // true\n",
    "// console.log(tentukanDeretGeometri([2, 4, 6, 8])); // false\n",
    "// console.log(tentukanDeretGeometri([2, 6, 18, 54])); // true\n",
    "// console.log(tentukanDeretGeometri([1, 2, 3, 4, 7, 9])); // false"
   ]
  },
  {
   "cell_type": "code",
   "execution_count": 108,
   "metadata": {},
   "outputs": [],
   "source": [
    "// Function tersebut akan mengembalikan true jika array dari parameter tersebut merupakan deret geometri. \n",
    "// Deret geometri adalah sebuah deret dimana perbedaan setiap angka di deret tersebut konsisten secara perkalian. \n",
    "// Contoh, [1, 3, 9, 27, 81] adalah deret aritmatika dengan pertambahan nilai sebesar pengalian 3, dan \n",
    "// [1, 3, 9, 27, 48] bukanlah deret aritmatika karena tidak perbedaan selisih antar angka yang tidak konsisten \n",
    "// secara perkalian (27 * 3 bukanlah 48!)."
   ]
  },
  {
   "cell_type": "code",
   "execution_count": 127,
   "metadata": {},
   "outputs": [],
   "source": [
    "function tentukanDeretGeometri(arr) {\n",
    "    var arr_counterpart = [arr[0]]\n",
    "    for(let i=1; i<arr.length; i++){\n",
    "        arr_counterpart.push(arr[i-1]*(arr[1]/arr[0]))\n",
    "    }\n",
    "    var state = true\n",
    "    for(let i=0; i<arr.length; i++){\n",
    "        if(arr[i] !== arr_counterpart[i]){\n",
    "            state = false\n",
    "        }\n",
    "    }\n",
    "    return state\n",
    "}"
   ]
  },
  {
   "cell_type": "code",
   "execution_count": 120,
   "metadata": {},
   "outputs": [],
   "source": [
    "var arr = [2, 4, 6, 8]"
   ]
  },
  {
   "cell_type": "code",
   "execution_count": 121,
   "metadata": {},
   "outputs": [
    {
     "data": {
      "text/plain": [
       "2"
      ]
     },
     "execution_count": 121,
     "metadata": {},
     "output_type": "execute_result"
    }
   ],
   "source": [
    "arr[1]/arr[0]"
   ]
  },
  {
   "cell_type": "code",
   "execution_count": 122,
   "metadata": {},
   "outputs": [],
   "source": [
    "var arr_counterpart = [arr[0]]"
   ]
  },
  {
   "cell_type": "code",
   "execution_count": 123,
   "metadata": {},
   "outputs": [
    {
     "data": {
      "text/plain": [
       "4"
      ]
     },
     "execution_count": 123,
     "metadata": {},
     "output_type": "execute_result"
    }
   ],
   "source": [
    "for(let i=1; i<arr.length; i++){\n",
    "    arr_counterpart.push(arr[i-1]*(arr[1]/arr[0]))\n",
    "}"
   ]
  },
  {
   "cell_type": "code",
   "execution_count": 124,
   "metadata": {},
   "outputs": [
    {
     "data": {
      "text/plain": [
       "[ 2, 4, 8, 12 ]"
      ]
     },
     "execution_count": 124,
     "metadata": {},
     "output_type": "execute_result"
    }
   ],
   "source": [
    "arr_counterpart"
   ]
  },
  {
   "cell_type": "code",
   "execution_count": 125,
   "metadata": {},
   "outputs": [
    {
     "data": {
      "text/plain": [
       "false"
      ]
     },
     "execution_count": 125,
     "metadata": {},
     "output_type": "execute_result"
    }
   ],
   "source": [
    "var state = true\n",
    "for(let i=0; i<arr.length; i++){\n",
    "    if(arr[i] !== arr_counterpart[i]){\n",
    "        state = false\n",
    "    }\n",
    "}"
   ]
  },
  {
   "cell_type": "code",
   "execution_count": 126,
   "metadata": {},
   "outputs": [
    {
     "data": {
      "text/plain": [
       "false"
      ]
     },
     "execution_count": 126,
     "metadata": {},
     "output_type": "execute_result"
    }
   ],
   "source": [
    "state"
   ]
  },
  {
   "cell_type": "code",
   "execution_count": 128,
   "metadata": {},
   "outputs": [
    {
     "name": "stdout",
     "output_type": "stream",
     "text": [
      "true\n",
      "true\n",
      "false\n",
      "true\n",
      "false\n"
     ]
    }
   ],
   "source": [
    "console.log(tentukanDeretGeometri([1, 3, 9, 27, 81])); // true\n",
    "console.log(tentukanDeretGeometri([2, 4, 8, 16, 32])); // true\n",
    "console.log(tentukanDeretGeometri([2, 4, 6, 8])); // false\n",
    "console.log(tentukanDeretGeometri([2, 6, 18, 54])); // true\n",
    "console.log(tentukanDeretGeometri([1, 2, 3, 4, 7, 9])); // false"
   ]
  },
  {
   "cell_type": "code",
   "execution_count": null,
   "metadata": {},
   "outputs": [],
   "source": []
  }
 ],
 "metadata": {
  "kernelspec": {
   "display_name": "Javascript (Node.js)",
   "language": "javascript",
   "name": "javascript"
  },
  "language_info": {
   "file_extension": ".js",
   "mimetype": "application/javascript",
   "name": "javascript",
   "version": "8.10.0"
  }
 },
 "nbformat": 4,
 "nbformat_minor": 2
}
